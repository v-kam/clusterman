{
 "cells": [
  {
   "cell_type": "markdown",
   "metadata": {},
   "source": [
    "This notebook provides a comprehensive demonstration of the Clusterman tool, designed for clustering text data efficiently.\n",
    "\n",
    "### Process\n",
    "\n",
    "1. **Data Preparation**: Load and prepare text data for clustering.\n",
    "2. **Embedding Generation**: Utilize embedding models to convert text data into numerical format.\n",
    "3. **Clustering Configuration**: Select and configure various clustering algorithms such as DBSCAN and Agglomerative Clustering.\n",
    "4. **Clustering Execution**: Run the clustering algorithms to group similar text items.\n",
    "5. **Cluster Description**: Use a language model to generate concise descriptions for each identified cluster."
   ]
  },
  {
   "cell_type": "code",
   "execution_count": 50,
   "metadata": {},
   "outputs": [],
   "source": [
    "from src.models import gpt4o, gpt35, emb_small\n",
    "from src.polars_api_request import run_bulk_api_requests, run_bulk_api_requests_chunk\n",
    "from matplotlib import pyplot as plt\n",
    "import nest_asyncio\n",
    "import polars as pl\n",
    "import pandas as pd\n",
    "import numpy as np\n",
    "from sklearn.cluster import AgglomerativeClustering, DBSCAN\n",
    "from typing import Any, Union\n",
    "\n",
    "# run in asyncio.run in notebook\n",
    "nest_asyncio.apply()\n",
    "\n",
    "embeddings = emb_small()\n"
   ]
  },
  {
   "cell_type": "code",
   "execution_count": 35,
   "metadata": {},
   "outputs": [
    {
     "data": {
      "text/plain": [
       "'Brake Malfunction Issues'"
      ]
     },
     "execution_count": 35,
     "metadata": {},
     "output_type": "execute_result"
    }
   ],
   "source": [
    "from langchain.prompts import PromptTemplate\n",
    "from langchain_core.output_parsers import StrOutputParser\n",
    "from langchain_core.runnables import RunnableSequence\n",
    "\n",
    "def get_cluster_describer() -> RunnableSequence:\n",
    "    # init llm for finding descriptions for each cluster\n",
    "    template = PromptTemplate(\n",
    "        input_variables=[\"input\"],\n",
    "        template=\"\"\"Create one description heading for the following cluster items (3-5 words total). Focus on the lowest common denominator\\n{input}\\description:\"\"\",\n",
    "    )\n",
    "\n",
    "    llm = gpt35()\n",
    "\n",
    "    return template | llm | StrOutputParser()\n",
    "\n",
    "cluster_describer = get_cluster_describer()\n",
    "\n",
    "cluster_describer.invoke(\n",
    "    {\"input\": \"trailer brakes stuck, handbrake stuck, Brakes blocked\"}\n",
    ")"
   ]
  },
  {
   "cell_type": "code",
   "execution_count": 37,
   "metadata": {},
   "outputs": [],
   "source": [
    "def cluster_embeddings(\n",
    "    df: pl.DataFrame,\n",
    "    embeddings_col: str,\n",
    "    output_col: str,\n",
    "    clusterer: Union[AgglomerativeClustering, Any],\n",
    "    cluster_kwargs: dict,\n",
    ") -> pl.DataFrame:\n",
    "    vectors = np.vstack(df[embeddings_col].to_list())\n",
    "\n",
    "    clusterer = clusterer(**cluster_kwargs)\n",
    "    cluster_labels = clusterer.fit_predict(vectors)\n",
    "\n",
    "    return df.with_columns(pl.Series(\"cluster\", cluster_labels).alias(output_col))"
   ]
  },
  {
   "cell_type": "code",
   "execution_count": 45,
   "metadata": {},
   "outputs": [],
   "source": [
    "TO_BE_EMBEDDED_COL_NAME = \"Materialnummer\"\n"
   ]
  },
  {
   "cell_type": "code",
   "execution_count": 70,
   "metadata": {},
   "outputs": [],
   "source": [
    "df = pl.read_excel(r\"C:\\Users\\vkammere\\Downloads\\20241111_KANBAN_NH90_GF.xlsx\")\n"
   ]
  },
  {
   "cell_type": "code",
   "execution_count": null,
   "metadata": {},
   "outputs": [],
   "source": [
    "df = df.pipe(\n",
    "    run_bulk_api_requests_chunk,\n",
    "    worker_func=embeddings.aembed_documents,\n",
    "    input_col_name=TO_BE_EMBEDDED_COL_NAME,\n",
    "    output_col_name=f\"{TO_BE_EMBEDDED_COL_NAME}_embedding\",\n",
    "    chunk_size=10,\n",
    "    rate_limit=3,\n",
    "    num_workers=2,\n",
    ")\n",
    "df"
   ]
  },
  {
   "cell_type": "code",
   "execution_count": null,
   "metadata": {},
   "outputs": [],
   "source": [
    "df = df.pipe(\n",
    "    cluster_embeddings,\n",
    "    embeddings_col=f\"{TO_BE_EMBEDDED_COL_NAME}_embedding\",\n",
    "    output_col=f\"{TO_BE_EMBEDDED_COL_NAME}_cluster\",\n",
    "    clusterer=AgglomerativeClustering,\n",
    "    cluster_kwargs={\n",
    "        \"n_clusters\": None,\n",
    "        \"distance_threshold\": 0.5,\n",
    "        \"linkage\": \"average\",\n",
    "        \"metric\": \"cosine\",\n",
    "    },\n",
    ")\n",
    "\n",
    "df"
   ]
  },
  {
   "cell_type": "code",
   "execution_count": null,
   "metadata": {},
   "outputs": [],
   "source": [
    "clusters_df = (\n",
    "    df.group_by(f\"{TO_BE_EMBEDDED_COL_NAME}_cluster\")\n",
    "    .agg(\n",
    "\n",
    "        pl.col(TO_BE_EMBEDDED_COL_NAME).alias(\"descriptions\"),\n",
    "        pl.len().alias(\"count\"),\n",
    "\n",
    "    )\n",
    "    .sort(\"count\", descending=True)\n",
    ")\n",
    "\n",
    "clusters_df"
   ]
  },
  {
   "cell_type": "code",
   "execution_count": null,
   "metadata": {},
   "outputs": [],
   "source": [
    "(\n",
    "    clusters_df.with_columns(\n",
    "        pl.col(\"descriptions\").list.join(\", \").str.slice(0, 300).alias(\"items_joined\")\n",
    "    )\n",
    "    .pipe(\n",
    "        run_bulk_api_requests,\n",
    "        worker_func=cluster_describer.ainvoke,\n",
    "        input_col_name=\"items_joined\",\n",
    "        output_col_name=\"description\",\n",
    "        rate_limit=3,\n",
    "        num_workers=2,\n",
    "    )\n",
    "    .drop(\"items_joined\")\n",
    ")"
   ]
  }
 ],
 "metadata": {
  "kernelspec": {
   "display_name": ".venv",
   "language": "python",
   "name": "python3"
  },
  "language_info": {
   "codemirror_mode": {
    "name": "ipython",
    "version": 3
   },
   "file_extension": ".py",
   "mimetype": "text/x-python",
   "name": "python",
   "nbconvert_exporter": "python",
   "pygments_lexer": "ipython3",
   "version": "3.11.1"
  }
 },
 "nbformat": 4,
 "nbformat_minor": 2
}
